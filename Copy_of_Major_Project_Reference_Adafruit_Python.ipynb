{
  "nbformat": 4,
  "nbformat_minor": 0,
  "metadata": {
    "colab": {
      "name": "Copy of Major Project Reference - Adafruit Python.ipynb",
      "provenance": [],
      "collapsed_sections": [],
      "include_colab_link": true
    },
    "kernelspec": {
      "display_name": "Python 3",
      "name": "python3"
    },
    "language_info": {
      "name": "python"
    }
  },
  "cells": [
    {
      "cell_type": "markdown",
      "metadata": {
        "id": "view-in-github",
        "colab_type": "text"
      },
      "source": [
        "<a href=\"https://colab.research.google.com/github/PR787305/smart_-home/blob/main/Copy_of_Major_Project_Reference_Adafruit_Python.ipynb\" target=\"_parent\"><img src=\"https://colab.research.google.com/assets/colab-badge.svg\" alt=\"Open In Colab\"/></a>"
      ]
    },
    {
      "cell_type": "code",
      "metadata": {
        "colab": {
          "base_uri": "https://localhost:8080/"
        },
        "id": "2VWCypl0Mqgw",
        "outputId": "87e73941-d966-4f6f-8ef4-618485fd06a8"
      },
      "source": [
        "pip install adafruit-io"
      ],
      "execution_count": 1,
      "outputs": [
        {
          "output_type": "stream",
          "name": "stdout",
          "text": [
            "Looking in indexes: https://pypi.org/simple, https://us-python.pkg.dev/colab-wheels/public/simple/\n",
            "Collecting adafruit-io\n",
            "  Downloading adafruit-io-2.7.0.tar.gz (49 kB)\n",
            "\u001b[K     |████████████████████████████████| 49 kB 2.2 MB/s \n",
            "\u001b[?25hRequirement already satisfied: requests in /usr/local/lib/python3.7/dist-packages (from adafruit-io) (2.23.0)\n",
            "Collecting paho-mqtt\n",
            "  Downloading paho-mqtt-1.6.1.tar.gz (99 kB)\n",
            "\u001b[K     |████████████████████████████████| 99 kB 5.0 MB/s \n",
            "\u001b[?25hRequirement already satisfied: idna<3,>=2.5 in /usr/local/lib/python3.7/dist-packages (from requests->adafruit-io) (2.10)\n",
            "Requirement already satisfied: chardet<4,>=3.0.2 in /usr/local/lib/python3.7/dist-packages (from requests->adafruit-io) (3.0.4)\n",
            "Requirement already satisfied: certifi>=2017.4.17 in /usr/local/lib/python3.7/dist-packages (from requests->adafruit-io) (2022.6.15)\n",
            "Requirement already satisfied: urllib3!=1.25.0,!=1.25.1,<1.26,>=1.21.1 in /usr/local/lib/python3.7/dist-packages (from requests->adafruit-io) (1.24.3)\n",
            "Building wheels for collected packages: adafruit-io, paho-mqtt\n",
            "  Building wheel for adafruit-io (setup.py) ... \u001b[?25l\u001b[?25hdone\n",
            "  Created wheel for adafruit-io: filename=adafruit_io-2.7.0-py3-none-any.whl size=22289 sha256=a7fbb674ea032e99976e047f257146a951813b0bb54fe6812f698427a2a5b8e9\n",
            "  Stored in directory: /root/.cache/pip/wheels/8d/3f/51/cdcf1bd09e8ac0e82447e414b72dfd183bd00d0c4d09cbd826\n",
            "  Building wheel for paho-mqtt (setup.py) ... \u001b[?25l\u001b[?25hdone\n",
            "  Created wheel for paho-mqtt: filename=paho_mqtt-1.6.1-py3-none-any.whl size=62133 sha256=33b0be1e5ae5b682688677554778dbf2b433bc690b97fa3f3f83360ff47dfe90\n",
            "  Stored in directory: /root/.cache/pip/wheels/d0/bf/ac/2b3f43f8c6fcd0f4ba5395397458c521eb0b52d33b574a5a40\n",
            "Successfully built adafruit-io paho-mqtt\n",
            "Installing collected packages: paho-mqtt, adafruit-io\n",
            "Successfully installed adafruit-io-2.7.0 paho-mqtt-1.6.1\n"
          ]
        }
      ]
    },
    {
      "cell_type": "code",
      "metadata": {
        "id": "0PYDsQt_vOP2"
      },
      "source": [
        "from Adafruit_IO import Client\n",
        "aio = Client('PR7','aio_aPlc69afhE7orbV7gDYkZZqflgoj')\n"
      ],
      "execution_count": 2,
      "outputs": []
    },
    {
      "cell_type": "code",
      "metadata": {
        "colab": {
          "base_uri": "https://localhost:8080/"
        },
        "id": "E_dpA4E8N-4w",
        "outputId": "6d6b6bed-26a3-44bb-8d20-48d84163c955"
      },
      "source": [
        "pip install python-telegram-bot==13.0 --quiet"
      ],
      "execution_count": 3,
      "outputs": [
        {
          "output_type": "stream",
          "name": "stdout",
          "text": [
            "\u001b[K     |████████████████████████████████| 404 kB 5.1 MB/s \n",
            "\u001b[K     |████████████████████████████████| 58 kB 6.1 MB/s \n",
            "\u001b[K     |████████████████████████████████| 4.0 MB 62.2 MB/s \n",
            "\u001b[?25h"
          ]
        }
      ]
    },
    {
      "cell_type": "code",
      "metadata": {
        "id": "Ve0tSCFfP-sR"
      },
      "source": [
        "\n",
        "\n",
        "\n",
        "\n",
        "from telegram.ext import Updater, MessageHandler, Filters\n",
        "\n",
        "\n",
        "\n",
        "\n",
        "def demo1(bot,update):\n",
        "  chat_id = bot.message.chat_id\n",
        "  bot.message.reply_text('turning on bedroom lights')\n",
        "  aio.send('bedroom lights',1)\n",
        "  \n",
        "def demo2(bot,update):\n",
        "  chat_id = bot.message.chat_id\n",
        "  bot.message.reply_text('turning off bedroom lights')\n",
        "  aio.send('bedroom lights',0)\n",
        "\n",
        "def demo3(bot,update):\n",
        "  chat_id = bot.message.chat_id\n",
        "  bot.message.reply_text('turning on fans')\n",
        "  aio.send('fans',1)\n",
        "\n",
        "def demo4(bot,update):\n",
        "  chat_id = bot.message.chat_id\n",
        "  bot.message.reply_text('turning off fans')\n",
        "  aio.send('fans',0)\n",
        "\n",
        "def demo5(bot,update):\n",
        "  chat_id  = bot.message.chat_id\n",
        "  bot.message.reply_text('turning on television')\n",
        "  aio.send('television',1)\n",
        "\n",
        "def demo6(bot,update):\n",
        "  chat_id = bot.message.chat_id\n",
        "  bot.message.reply_text('turning off television')\n",
        "  aio.send('television',0)\n",
        "\n",
        "def main(bot,update):\n",
        "  a= bot.message.text.lower()\n",
        "  if a ==\"turn on bedroom lights\":\n",
        "    demo1(bot,update)\n",
        "  elif a ==\"turn off  bedroom lights\":\n",
        "    demo2(bot,update)\n",
        "  elif a ==\"turn on fans\":\n",
        "    demo3(bot,update)\n",
        "  elif a ==\"turn off fans\":\n",
        "    demo4(bot,update)\n",
        "  elif a ==\"turn on television\":\n",
        "    demo5(bot,update)\n",
        "  elif a==\"turn off television\": \n",
        "    demo6(bot,update)  \n",
        "\n",
        "\n",
        "bot_token = '5199470247:AAEmxWQ4BUr6kwa1L61DFdwQdTyWqGERHI4             '\n",
        "u = Updater(bot_token,use_context=True)\n",
        "dp = u.dispatcher\n",
        "dp.add_handler(MessageHandler(Filters.text,main))\n",
        "u.start_polling()\n",
        "u.idle()"
      ],
      "execution_count": 4,
      "outputs": []
    }
  ]
}